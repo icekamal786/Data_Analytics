{
 "cells": [
  {
   "cell_type": "code",
   "execution_count": 1,
   "id": "706d0ae0",
   "metadata": {},
   "outputs": [],
   "source": [
    "import pandas as pd\n",
    "import numpy as np\n",
    "import matplotlib.pyplot as plt\n",
    "from sklearn.model_selection import train_test_split"
   ]
  },
  {
   "cell_type": "code",
   "execution_count": 2,
   "id": "7ce31438",
   "metadata": {},
   "outputs": [
    {
     "name": "stdout",
     "output_type": "stream",
     "text": [
      "        P1    P2\n",
      "0      838   889\n",
      "1      905  1330\n",
      "2      859   875\n",
      "3      861   874\n",
      "4      857   869\n",
      "...    ...   ...\n",
      "4995   847   898\n",
      "4996  1236  1276\n",
      "4997   851   889\n",
      "4998   829   898\n",
      "4999   846   891\n",
      "\n",
      "[5000 rows x 2 columns]\n",
      "          P1    P2  Binary Var\n",
      "0         98   651           0\n",
      "1        696  1870           1\n",
      "2       1073  1620           0\n",
      "3        167   633           0\n",
      "4          4   640           0\n",
      "...      ...   ...         ...\n",
      "155946   546  1512           1\n",
      "155947   720  1902           1\n",
      "155948  1112  1591           0\n",
      "155949   396  1472           1\n",
      "155950  1021  1680           0\n",
      "\n",
      "[155951 rows x 3 columns]\n"
     ]
    }
   ],
   "source": [
    "ftest= pd.read_csv('C:\\\\Users\\\\admin\\\\Desktop\\\\GIT\\\\OPEN IIT\\\\Data_Analytics\\\\test.csv')\n",
    "ftrain= pd.read_csv('C:\\\\Users\\\\admin\\\\Desktop\\\\GIT\\\\OPEN IIT\\\\Data_Analytics\\\\train.csv')\n",
    "\n",
    "print(ftest)\n",
    "print(ftrain)\n",
    "x= ftrain.iloc[:, [0,1]].values  \n",
    "xtest= ftest.iloc[:, [0,1]].values  \n",
    "y= ftrain.iloc[:, 2].values \n",
    "\n",
    "X_train, X_test, y_train, y_test = train_test_split(x, y, test_size= 0.3, random_state = 0)\n"
   ]
  },
  {
   "cell_type": "code",
   "execution_count": null,
   "id": "65e0269f",
   "metadata": {},
   "outputs": [],
   "source": [
    "from sklearn.svm import SVC\n",
    "svclassifier = SVC(kernel='linear')\n",
    "svclassifier.fit(X_train, y_train)"
   ]
  },
  {
   "cell_type": "code",
   "execution_count": null,
   "id": "40749ff2",
   "metadata": {},
   "outputs": [],
   "source": []
  }
 ],
 "metadata": {
  "kernelspec": {
   "display_name": "Python 3 (ipykernel)",
   "language": "python",
   "name": "python3"
  },
  "language_info": {
   "codemirror_mode": {
    "name": "ipython",
    "version": 3
   },
   "file_extension": ".py",
   "mimetype": "text/x-python",
   "name": "python",
   "nbconvert_exporter": "python",
   "pygments_lexer": "ipython3",
   "version": "3.10.4"
  }
 },
 "nbformat": 4,
 "nbformat_minor": 5
}
